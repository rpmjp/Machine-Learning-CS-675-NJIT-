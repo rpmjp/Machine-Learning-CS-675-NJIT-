{
  "nbformat": 4,
  "nbformat_minor": 0,
  "metadata": {
    "colab": {
      "provenance": [],
      "include_colab_link": true
    },
    "kernelspec": {
      "display_name": "Python 3",
      "language": "python",
      "name": "python3"
    },
    "language_info": {
      "codemirror_mode": {
        "name": "ipython",
        "version": 3
      },
      "file_extension": ".py",
      "mimetype": "text/x-python",
      "name": "python",
      "nbconvert_exporter": "python",
      "pygments_lexer": "ipython3",
      "version": "3.8.5"
    }
  },
  "cells": [
    {
      "cell_type": "markdown",
      "metadata": {
        "id": "view-in-github",
        "colab_type": "text"
      },
      "source": [
        "<a href=\"https://colab.research.google.com/github/rpmjp/Machine-Learning-CS-675-NJIT-/blob/main/assignment1.ipynb\" target=\"_parent\"><img src=\"https://colab.research.google.com/assets/colab-badge.svg\" alt=\"Open In Colab\"/></a>"
      ]
    },
    {
      "cell_type": "markdown",
      "metadata": {
        "id": "Tajfsk_7JY3E"
      },
      "source": [
        "**Note to grader:** Each question consists of parts, e.g. Q1(i), Q1(ii), etc. Each part must be graded on scale of 0-4 scale, following the standard NJIT convention (A: 4, B+: 3.5, B: 3, C+: 2.5, C: 2, D: 1, F: 0).\n",
        "\n",
        "The total score must be re-scaled to a percentage."
      ]
    },
    {
      "cell_type": "markdown",
      "metadata": {
        "id": "e8SKy70z2osa"
      },
      "source": [
        "----\n",
        "\n",
        "<i>General instructions for this and future notebooks:</i>\n",
        "1. To run a cell and move to the next cell: Hold down <strong>Shift</strong> and press <strong>Enter</strong>.\n",
        "2. To run a cell and stay in the same cell: Hold down <b>Ctrl</b> and press <b>Enter</b>.\n",
        "3. Use the arrow up and down to navigate or do it manually as you prefer.\n",
        "4. Escape from typing a cell: Hit <b>Esc</b>.\n",
        "\n",
        "---------\n",
        "\n",
        "<b>Note: </b>\n",
        "\n",
        "> You must run/evaluate all cells. <b>Order of cell execution is important.</b>\n",
        "\n",
        "\n",
        "\n",
        "> You must work directly out of a copy of the assignment notebook given to you, in the exact order.\n"
      ]
    },
    {
      "cell_type": "code",
      "metadata": {
        "id": "I-sfBXk9AkfN"
      },
      "source": [
        "# Grader's area\n",
        "\n",
        "import numpy as np\n",
        "\n",
        "# This assignment contains 5 exercises each with at most 3 parts.\n",
        "# We initialize a 6x4 array M, containing zeros.\n",
        "# The grade for question i, part j, will be recorded in M[i,j].\n",
        "# Then the total grade can be easily computed in the last grader's area.\n",
        "\n",
        "maxScore = 0\n",
        "M = np.zeros((6,4))"
      ],
      "execution_count": 1,
      "outputs": []
    },
    {
      "cell_type": "markdown",
      "metadata": {
        "id": "ly4laI7pfGJO"
      },
      "source": [
        "# **Assignment 1**\n",
        "The first assignment walks you through some elements of Python/Numpy. It is meant mostly to familiarize you with Jupyter notebooks. It includes cells for demonstration, leading to clearly-marked cells for questions.\n",
        "\n"
      ]
    },
    {
      "cell_type": "markdown",
      "metadata": {
        "id": "8owP8xk_yi6h"
      },
      "source": [
        "-----------------------"
      ]
    },
    {
      "cell_type": "markdown",
      "metadata": {
        "id": "r_tl0TKffGJP"
      },
      "source": [
        "### **Part 1: NumPy walk-through**\n",
        "\n",
        "Let's look at matrix A and how it is presented in Numpy:\n",
        "\\begin{equation*}\n",
        "A =\n",
        "\\begin{pmatrix}\n",
        "1 & 2 & 3 \\\\\n",
        "4 & 5 & 6 \\\\\n",
        "7 & 8 & 9\n",
        "\\end{pmatrix}\n",
        "\\end{equation*}"
      ]
    },
    {
      "cell_type": "code",
      "metadata": {
        "id": "ik4Gngp2fGJQ",
        "colab": {
          "base_uri": "https://localhost:8080/"
        },
        "outputId": "db02f35e-8a95-49bb-8933-0cb5fcd9f285"
      },
      "source": [
        "import numpy as np\n",
        "\n",
        "# here the notation np.X invokes a function X from module np\n",
        "#    where np is an alias for numpy as note in line-1 above.\n",
        "\n",
        "A = np.array([[1,2,3],[4,5,6],[7,8,9]], dtype = float)\n",
        "print('This is how matrix A will be presented in Numpy:\\n\\n {}\\n'.format(A))\n",
        "\n",
        "# Example of describing A\n",
        "print('We just create a {}'.format(type(A)))\n",
        "print('Our template has shape as {} with total size of {}'.format(A.shape, A.size))\n",
        "print('The total dimension of A is {}'.format(A.ndim))\n",
        "\n",
        "# Multi-line print out\n",
        "print('''The data types of elements of A are {},\n",
        "        which consumes {} bytes'''.format(A.dtype, A.nbytes))"
      ],
      "execution_count": 2,
      "outputs": [
        {
          "output_type": "stream",
          "name": "stdout",
          "text": [
            "This is how matrix A will be presented in Numpy:\n",
            "\n",
            " [[1. 2. 3.]\n",
            " [4. 5. 6.]\n",
            " [7. 8. 9.]]\n",
            "\n",
            "We just create a <class 'numpy.ndarray'>\n",
            "Our template has shape as (3, 3) with total size of 9\n",
            "The total dimension of A is 2\n",
            "The data types of elements of A are float64,\n",
            "        which consumes 72 bytes\n"
          ]
        }
      ]
    },
    {
      "cell_type": "code",
      "metadata": {
        "id": "oqhQyAZTfGJV"
      },
      "source": [
        "# create a copy of A with integer type\n",
        "A_copy = np.array(A, dtype=np.int32)"
      ],
      "execution_count": 3,
      "outputs": []
    },
    {
      "cell_type": "markdown",
      "metadata": {
        "id": "2XxgGLoIfGJY"
      },
      "source": [
        "#### NumPy array operations"
      ]
    },
    {
      "cell_type": "code",
      "metadata": {
        "id": "scImnsyJfGJY",
        "colab": {
          "base_uri": "https://localhost:8080/"
        },
        "outputId": "fe22ae47-88e9-4065-8666-71c3baa36c23"
      },
      "source": [
        "# Turn a python list to numpy array\n",
        "checking_acct = [10.1, 2.3, -3, 100]\n",
        "checking_acct_array = np.asarray(checking_acct)\n",
        "type(checking_acct_array)"
      ],
      "execution_count": 4,
      "outputs": [
        {
          "output_type": "execute_result",
          "data": {
            "text/plain": [
              "numpy.ndarray"
            ]
          },
          "metadata": {},
          "execution_count": 4
        }
      ]
    },
    {
      "cell_type": "code",
      "metadata": {
        "id": "mHPmhzdOfGJb",
        "colab": {
          "base_uri": "https://localhost:8080/"
        },
        "outputId": "c1aeedfa-0c3f-4271-b1ce-6b13dac38f8d"
      },
      "source": [
        "# adding $2 to each deposit/withdrawal transaction\n",
        "checking_acct_array + 2"
      ],
      "execution_count": 5,
      "outputs": [
        {
          "output_type": "execute_result",
          "data": {
            "text/plain": [
              "array([ 12.1,   4.3,  -1. , 102. ])"
            ]
          },
          "metadata": {},
          "execution_count": 5
        }
      ]
    },
    {
      "cell_type": "code",
      "metadata": {
        "id": "RQAbwx5gfGJe",
        "colab": {
          "base_uri": "https://localhost:8080/"
        },
        "outputId": "419ad4cf-709c-426a-a9dd-f42b8006683c"
      },
      "source": [
        "# subtract $0.5 from each transaction\n",
        "checking_acct_array - 0.5"
      ],
      "execution_count": 6,
      "outputs": [
        {
          "output_type": "execute_result",
          "data": {
            "text/plain": [
              "array([ 9.6,  1.8, -3.5, 99.5])"
            ]
          },
          "metadata": {},
          "execution_count": 6
        }
      ]
    },
    {
      "cell_type": "code",
      "metadata": {
        "id": "UaMikHWpfGJg",
        "colab": {
          "base_uri": "https://localhost:8080/"
        },
        "outputId": "5f4c5b9e-4ebb-487f-b1b7-6b17022e1f25"
      },
      "source": [
        "# double it up\n",
        "checking_acct_array * 2"
      ],
      "execution_count": 7,
      "outputs": [
        {
          "output_type": "execute_result",
          "data": {
            "text/plain": [
              "array([ 20.2,   4.6,  -6. , 200. ])"
            ]
          },
          "metadata": {},
          "execution_count": 7
        }
      ]
    },
    {
      "cell_type": "code",
      "metadata": {
        "id": "Viiu3ePUfGJi",
        "colab": {
          "base_uri": "https://localhost:8080/"
        },
        "outputId": "53b8d4e4-6ed3-4548-aaa6-954dc42f6484"
      },
      "source": [
        "# divide the amounts by 3\n",
        "checking_acct_array / 3"
      ],
      "execution_count": 8,
      "outputs": [
        {
          "output_type": "execute_result",
          "data": {
            "text/plain": [
              "array([ 3.36666667,  0.76666667, -1.        , 33.33333333])"
            ]
          },
          "metadata": {},
          "execution_count": 8
        }
      ]
    },
    {
      "cell_type": "markdown",
      "metadata": {
        "id": "oGZMC38NfGJl"
      },
      "source": [
        "Note: You can't do the above operation with list. You will have to iterate the list's elements. For example:"
      ]
    },
    {
      "cell_type": "code",
      "metadata": {
        "id": "u6EM8P58fGJl",
        "colab": {
          "base_uri": "https://localhost:8080/"
        },
        "outputId": "205609a4-3175-445c-8ea7-44a14f33de5b"
      },
      "source": [
        "# to add $2 to each transaction with checking_acct, we must use list comprehension.\n",
        "[x + 2 for x in checking_acct]"
      ],
      "execution_count": 9,
      "outputs": [
        {
          "output_type": "execute_result",
          "data": {
            "text/plain": [
              "[12.1, 4.3, -1, 102]"
            ]
          },
          "metadata": {},
          "execution_count": 9
        }
      ]
    },
    {
      "cell_type": "code",
      "metadata": {
        "id": "eYGHGQRhfGJo",
        "colab": {
          "base_uri": "https://localhost:8080/"
        },
        "outputId": "a16683fc-a69e-4620-83eb-15971e9c243e"
      },
      "source": [
        "# create a one-dimensional array containing 10 ones\n",
        "np.ones(10)"
      ],
      "execution_count": 10,
      "outputs": [
        {
          "output_type": "execute_result",
          "data": {
            "text/plain": [
              "array([1., 1., 1., 1., 1., 1., 1., 1., 1., 1.])"
            ]
          },
          "metadata": {},
          "execution_count": 10
        }
      ]
    },
    {
      "cell_type": "code",
      "metadata": {
        "id": "zU9DzeFtfGJr",
        "colab": {
          "base_uri": "https://localhost:8080/"
        },
        "outputId": "0362cb53-ceb8-4512-d66d-606c4634bf17"
      },
      "source": [
        "# create an identity matrix\n",
        "np.identity(4)"
      ],
      "execution_count": 11,
      "outputs": [
        {
          "output_type": "execute_result",
          "data": {
            "text/plain": [
              "array([[1., 0., 0., 0.],\n",
              "       [0., 1., 0., 0.],\n",
              "       [0., 0., 1., 0.],\n",
              "       [0., 0., 0., 1.]])"
            ]
          },
          "metadata": {},
          "execution_count": 11
        }
      ]
    },
    {
      "cell_type": "code",
      "metadata": {
        "id": "bzyiFkjpfGJt",
        "colab": {
          "base_uri": "https://localhost:8080/"
        },
        "outputId": "66c05dd5-0991-43d0-db13-88a5acd0eb0d"
      },
      "source": [
        "# create an array size 1 x 9 including only even numbers starting from 2\n",
        "x = np.arange(2,20,2)\n",
        "x"
      ],
      "execution_count": 12,
      "outputs": [
        {
          "output_type": "execute_result",
          "data": {
            "text/plain": [
              "array([ 2,  4,  6,  8, 10, 12, 14, 16, 18])"
            ]
          },
          "metadata": {},
          "execution_count": 12
        }
      ]
    },
    {
      "cell_type": "code",
      "metadata": {
        "id": "Fi7yU_v3fGJw",
        "colab": {
          "base_uri": "https://localhost:8080/"
        },
        "outputId": "efc3b0c0-cb82-4719-e816-92537c2608dc"
      },
      "source": [
        "# reshape x to size 3 x 3 we get the following matrix\n",
        "\n",
        "# Variables in Python (an numpy) are objects.\n",
        "# Each object contains data (like x does), but it is also associated\n",
        "# with methods, i.e. python functions that can apply to it.\n",
        "# When we apply such an operation, we use the notation x.fname, like\n",
        "# below.\n",
        "\n",
        "x = x.reshape(3,3)\n",
        "x"
      ],
      "execution_count": 13,
      "outputs": [
        {
          "output_type": "execute_result",
          "data": {
            "text/plain": [
              "array([[ 2,  4,  6],\n",
              "       [ 8, 10, 12],\n",
              "       [14, 16, 18]])"
            ]
          },
          "metadata": {},
          "execution_count": 13
        }
      ]
    },
    {
      "cell_type": "code",
      "metadata": {
        "id": "lhwnA49lfGJy",
        "colab": {
          "base_uri": "https://localhost:8080/"
        },
        "outputId": "ee2b9e36-db1d-4be9-9bfe-f0498972b4ce"
      },
      "source": [
        "# transpose x\n",
        "y = x.T\n",
        "y"
      ],
      "execution_count": 14,
      "outputs": [
        {
          "output_type": "execute_result",
          "data": {
            "text/plain": [
              "array([[ 2,  8, 14],\n",
              "       [ 4, 10, 16],\n",
              "       [ 6, 12, 18]])"
            ]
          },
          "metadata": {},
          "execution_count": 14
        }
      ]
    },
    {
      "cell_type": "code",
      "metadata": {
        "id": "-34yj_jDfGJ0",
        "colab": {
          "base_uri": "https://localhost:8080/"
        },
        "outputId": "9446d315-572d-4399-9af0-6ae2a968a846"
      },
      "source": [
        "# compare two arrays\n",
        "x == y"
      ],
      "execution_count": 15,
      "outputs": [
        {
          "output_type": "execute_result",
          "data": {
            "text/plain": [
              "array([[ True, False, False],\n",
              "       [False,  True, False],\n",
              "       [False, False,  True]])"
            ]
          },
          "metadata": {},
          "execution_count": 15
        }
      ]
    },
    {
      "cell_type": "code",
      "metadata": {
        "id": "Akbw9C1PfGJ2",
        "colab": {
          "base_uri": "https://localhost:8080/"
        },
        "outputId": "0f6a56fe-e887-42ec-a3cc-bc1067c3b6b5"
      },
      "source": [
        "x == y.T"
      ],
      "execution_count": 16,
      "outputs": [
        {
          "output_type": "execute_result",
          "data": {
            "text/plain": [
              "array([[ True,  True,  True],\n",
              "       [ True,  True,  True],\n",
              "       [ True,  True,  True]])"
            ]
          },
          "metadata": {},
          "execution_count": 16
        }
      ]
    },
    {
      "cell_type": "code",
      "metadata": {
        "id": "PjbS0Y8zfGJ5",
        "colab": {
          "base_uri": "https://localhost:8080/"
        },
        "outputId": "912e10c8-1279-43a2-b433-a2b5aef7ffd5"
      },
      "source": [
        "np.array_equal(x,y.T)"
      ],
      "execution_count": 17,
      "outputs": [
        {
          "output_type": "execute_result",
          "data": {
            "text/plain": [
              "True"
            ]
          },
          "metadata": {},
          "execution_count": 17
        }
      ]
    },
    {
      "cell_type": "code",
      "metadata": {
        "id": "vC29JsRAfGJ7",
        "colab": {
          "base_uri": "https://localhost:8080/"
        },
        "outputId": "aba8f209-3b94-4f6a-d288-c89fcb8f9e6e"
      },
      "source": [
        "x < y"
      ],
      "execution_count": 18,
      "outputs": [
        {
          "output_type": "execute_result",
          "data": {
            "text/plain": [
              "array([[False,  True,  True],\n",
              "       [False, False,  True],\n",
              "       [False, False, False]])"
            ]
          },
          "metadata": {},
          "execution_count": 18
        }
      ]
    },
    {
      "cell_type": "code",
      "metadata": {
        "id": "9CumfUaRfGJ9",
        "colab": {
          "base_uri": "https://localhost:8080/"
        },
        "outputId": "fef138cf-ed3f-4cd0-9f14-40e618462983"
      },
      "source": [
        "c = np.ones((3,3))\n",
        "c"
      ],
      "execution_count": 19,
      "outputs": [
        {
          "output_type": "execute_result",
          "data": {
            "text/plain": [
              "array([[1., 1., 1.],\n",
              "       [1., 1., 1.],\n",
              "       [1., 1., 1.]])"
            ]
          },
          "metadata": {},
          "execution_count": 19
        }
      ]
    },
    {
      "cell_type": "code",
      "metadata": {
        "id": "8sXMycSpfGJ_",
        "colab": {
          "base_uri": "https://localhost:8080/"
        },
        "outputId": "cebe021c-500e-49bf-e4b9-c6ad13c254dd"
      },
      "source": [
        "# matrix squaring\n",
        "np.dot(c,c)\n",
        "\n",
        "# or\n",
        "np.matmul(c,c)"
      ],
      "execution_count": 20,
      "outputs": [
        {
          "output_type": "execute_result",
          "data": {
            "text/plain": [
              "array([[3., 3., 3.],\n",
              "       [3., 3., 3.],\n",
              "       [3., 3., 3.]])"
            ]
          },
          "metadata": {},
          "execution_count": 20
        }
      ]
    },
    {
      "cell_type": "code",
      "metadata": {
        "id": "phRTWOZwfGKB",
        "colab": {
          "base_uri": "https://localhost:8080/"
        },
        "outputId": "fd551dd1-9d92-4e87-a8fd-4102738d4d9b"
      },
      "source": [
        "# stacking/merging two multidimensional arrays\n",
        "x = np.arange(10).reshape(2,5)\n",
        "y = np.arange(15).reshape(3,5)\n",
        "xy = np.vstack((x,y))\n",
        "xy"
      ],
      "execution_count": 21,
      "outputs": [
        {
          "output_type": "execute_result",
          "data": {
            "text/plain": [
              "array([[ 0,  1,  2,  3,  4],\n",
              "       [ 5,  6,  7,  8,  9],\n",
              "       [ 0,  1,  2,  3,  4],\n",
              "       [ 5,  6,  7,  8,  9],\n",
              "       [10, 11, 12, 13, 14]])"
            ]
          },
          "metadata": {},
          "execution_count": 21
        }
      ]
    },
    {
      "cell_type": "code",
      "metadata": {
        "id": "pwX_qhk4fGKD",
        "colab": {
          "base_uri": "https://localhost:8080/"
        },
        "outputId": "28b393cf-d0cb-4a66-a08c-5234adc3ee75"
      },
      "source": [
        "x = np.arange(10).reshape(5,2)\n",
        "y = np.arange(15).reshape(5,3)\n",
        "xy = np.hstack((x,y))\n",
        "xy"
      ],
      "execution_count": 22,
      "outputs": [
        {
          "output_type": "execute_result",
          "data": {
            "text/plain": [
              "array([[ 0,  1,  0,  1,  2],\n",
              "       [ 2,  3,  3,  4,  5],\n",
              "       [ 4,  5,  6,  7,  8],\n",
              "       [ 6,  7,  9, 10, 11],\n",
              "       [ 8,  9, 12, 13, 14]])"
            ]
          },
          "metadata": {},
          "execution_count": 22
        }
      ]
    },
    {
      "cell_type": "code",
      "metadata": {
        "id": "YCiyIn78fGKF",
        "colab": {
          "base_uri": "https://localhost:8080/"
        },
        "outputId": "e37f8183-9578-4566-f540-7ce0286f4060"
      },
      "source": [
        "# checking statistics for xy\n",
        "from scipy import stats\n",
        "stats.describe(xy)"
      ],
      "execution_count": 23,
      "outputs": [
        {
          "output_type": "execute_result",
          "data": {
            "text/plain": [
              "DescribeResult(nobs=5, minmax=(array([0, 1, 0, 1, 2]), array([ 8,  9, 12, 13, 14])), mean=array([4., 5., 6., 7., 8.]), variance=array([10. , 10. , 22.5, 22.5, 22.5]), skewness=array([0., 0., 0., 0., 0.]), kurtosis=array([-1.3, -1.3, -1.3, -1.3, -1.3]))"
            ]
          },
          "metadata": {},
          "execution_count": 23
        }
      ]
    },
    {
      "cell_type": "code",
      "metadata": {
        "id": "jhXIOt8dfGKH",
        "colab": {
          "base_uri": "https://localhost:8080/"
        },
        "outputId": "a0586350-c025-4919-edb3-deb047263265"
      },
      "source": [
        "# generate 20 random records, each has 3 features represented by some random number\n",
        "x = np.random.rand(20,3)\n",
        "\n",
        "# check statistics by feature for these records\n",
        "n, min_max, mean, var, skew, kurt = stats.describe(x)\n",
        "\n",
        "# observe the gather statistics\n",
        "print('''x:\\n {}\\n\\n,n:\\n {}\\n\\n, min_max:\\n {}\\n\\n, mean:\\n {}\\n\\n\n",
        ", var:\\n {}\\n\\n, skew:\\n {}\\n\\n, kurt:\\n {}\\n\\n'''.format(x, n, min_max, mean, var, skew, kurt))"
      ],
      "execution_count": 24,
      "outputs": [
        {
          "output_type": "stream",
          "name": "stdout",
          "text": [
            "x:\n",
            " [[0.91425013 0.67456362 0.14257059]\n",
            " [0.7558365  0.51655621 0.60852378]\n",
            " [0.62660119 0.08992999 0.82156161]\n",
            " [0.93859206 0.28651313 0.27290915]\n",
            " [0.67418276 0.27183402 0.39085083]\n",
            " [0.36437085 0.77164124 0.88223636]\n",
            " [0.05648244 0.03418122 0.66152714]\n",
            " [0.547737   0.09402474 0.95469531]\n",
            " [0.06740971 0.9876419  0.04993483]\n",
            " [0.48144579 0.94851421 0.52744637]\n",
            " [0.63400762 0.26239987 0.90109889]\n",
            " [0.18008576 0.43727315 0.49189058]\n",
            " [0.03357653 0.71871193 0.19836695]\n",
            " [0.36032439 0.22540684 0.64732173]\n",
            " [0.10554243 0.6248463  0.58888927]\n",
            " [0.70956169 0.15133862 0.29808506]\n",
            " [0.35488842 0.0795614  0.8014508 ]\n",
            " [0.17377559 0.64248876 0.12968462]\n",
            " [0.96504825 0.22969597 0.47980635]\n",
            " [0.14650101 0.51394653 0.22000141]]\n",
            "\n",
            ",n:\n",
            " 20\n",
            "\n",
            ", min_max:\n",
            " (array([0.03357653, 0.03418122, 0.04993483]), array([0.96504825, 0.9876419 , 0.95469531]))\n",
            "\n",
            ", mean:\n",
            " [0.45451101 0.42805348 0.50344258]\n",
            "\n",
            "\n",
            ", var:\n",
            " [0.09814994 0.08835119 0.07987124]\n",
            "\n",
            ", skew:\n",
            " [0.17073449 0.38503576 0.02513605]\n",
            "\n",
            ", kurt:\n",
            " [-1.27916867 -1.04742749 -1.21908552]\n",
            "\n",
            "\n"
          ]
        }
      ]
    },
    {
      "cell_type": "markdown",
      "metadata": {
        "id": "6icgEByffGKK"
      },
      "source": [
        "#### Slice and dice matrix\n",
        "\n",
        "Take out 2 elements in the 1st row, 2nd column, and 3rd row, 3rd column of matrix A from above:\n",
        "\n",
        "$\\begin{equation*}\n",
        "A =\n",
        "\\begin{pmatrix}\n",
        "1 & 2 & 3 \\\\\n",
        "4 & 5 & 6 \\\\\n",
        "7 & 8 & 9\n",
        "\\end{pmatrix}\n",
        "\\end{equation*}\n",
        "$"
      ]
    },
    {
      "cell_type": "code",
      "metadata": {
        "id": "7R8ypS2zfGKN",
        "colab": {
          "base_uri": "https://localhost:8080/"
        },
        "outputId": "9c64af8a-2867-4010-c52d-b20e0cb05dd5"
      },
      "source": [
        "# numpy is indexed from 0. Slice by row and then by column\n",
        "A[[0,2],[1,2]]"
      ],
      "execution_count": 25,
      "outputs": [
        {
          "output_type": "execute_result",
          "data": {
            "text/plain": [
              "array([2., 9.])"
            ]
          },
          "metadata": {},
          "execution_count": 25
        }
      ]
    },
    {
      "cell_type": "markdown",
      "metadata": {
        "id": "BfRzbPUXfGKQ"
      },
      "source": [
        "#### Resize and reshape matrix\n",
        "The matrix will be truncated or element values will be repeated if the reshape causes the matrix to change size."
      ]
    },
    {
      "cell_type": "code",
      "metadata": {
        "id": "_YNyARm1fGKQ",
        "colab": {
          "base_uri": "https://localhost:8080/"
        },
        "outputId": "1e1fd69f-828e-4bc3-9beb-2bf2de636865"
      },
      "source": [
        "x = (np.arange(9)+1).reshape(3,3)\n",
        "print(x)\n",
        "print('\\nresize smaller\\n {}'.format(np.resize(x,(2,2))))\n",
        "print('\\nresize bigger\\n {}'.format(np.resize(x,(4,4))))"
      ],
      "execution_count": 26,
      "outputs": [
        {
          "output_type": "stream",
          "name": "stdout",
          "text": [
            "[[1 2 3]\n",
            " [4 5 6]\n",
            " [7 8 9]]\n",
            "\n",
            "resize smaller\n",
            " [[1 2]\n",
            " [3 4]]\n",
            "\n",
            "resize bigger\n",
            " [[1 2 3 4]\n",
            " [5 6 7 8]\n",
            " [9 1 2 3]\n",
            " [4 5 6 7]]\n"
          ]
        }
      ]
    },
    {
      "cell_type": "markdown",
      "metadata": {
        "id": "bdtCXeGxfGKS"
      },
      "source": [
        "#### Multiplying two matrices\n",
        "An 1-dimensional array is treated as a vector."
      ]
    },
    {
      "cell_type": "code",
      "metadata": {
        "id": "YOFS8ioofGKT",
        "colab": {
          "base_uri": "https://localhost:8080/"
        },
        "outputId": "00c92d97-97d8-47e4-f4c2-fcc0d1df9a20"
      },
      "source": [
        "# a vector/array y\n",
        "y = np.arange(4)\n",
        "y"
      ],
      "execution_count": 27,
      "outputs": [
        {
          "output_type": "execute_result",
          "data": {
            "text/plain": [
              "array([0, 1, 2, 3])"
            ]
          },
          "metadata": {},
          "execution_count": 27
        }
      ]
    },
    {
      "cell_type": "code",
      "metadata": {
        "id": "mEWuYjlxfGKV",
        "colab": {
          "base_uri": "https://localhost:8080/"
        },
        "outputId": "10007877-0170-4a07-ddd3-250aa3fbea35"
      },
      "source": [
        "# a matrix of ones\n",
        "x = np.ones(16).reshape(4,4)\n",
        "x"
      ],
      "execution_count": 28,
      "outputs": [
        {
          "output_type": "execute_result",
          "data": {
            "text/plain": [
              "array([[1., 1., 1., 1.],\n",
              "       [1., 1., 1., 1.],\n",
              "       [1., 1., 1., 1.],\n",
              "       [1., 1., 1., 1.]])"
            ]
          },
          "metadata": {},
          "execution_count": 28
        }
      ]
    },
    {
      "cell_type": "code",
      "metadata": {
        "id": "d0707PxPfGKX",
        "colab": {
          "base_uri": "https://localhost:8080/"
        },
        "outputId": "debd6b16-72ce-411c-e2d1-6755a4d330fa"
      },
      "source": [
        "x*y"
      ],
      "execution_count": 29,
      "outputs": [
        {
          "output_type": "execute_result",
          "data": {
            "text/plain": [
              "array([[0., 1., 2., 3.],\n",
              "       [0., 1., 2., 3.],\n",
              "       [0., 1., 2., 3.],\n",
              "       [0., 1., 2., 3.]])"
            ]
          },
          "metadata": {},
          "execution_count": 29
        }
      ]
    },
    {
      "cell_type": "code",
      "metadata": {
        "id": "EJPYn6rEfGKZ",
        "colab": {
          "base_uri": "https://localhost:8080/"
        },
        "outputId": "bf671570-8fef-4fdb-ed98-0d610368e056"
      },
      "source": [
        "x*y.T   # interpreted as x*(y.T)"
      ],
      "execution_count": 30,
      "outputs": [
        {
          "output_type": "execute_result",
          "data": {
            "text/plain": [
              "array([[0., 1., 2., 3.],\n",
              "       [0., 1., 2., 3.],\n",
              "       [0., 1., 2., 3.],\n",
              "       [0., 1., 2., 3.]])"
            ]
          },
          "metadata": {},
          "execution_count": 30
        }
      ]
    },
    {
      "cell_type": "code",
      "metadata": {
        "id": "Tsl6MbI2fGKc",
        "colab": {
          "base_uri": "https://localhost:8080/"
        },
        "outputId": "1c18fb36-c87d-43bb-c08d-2d1820de41be"
      },
      "source": [
        "y*x"
      ],
      "execution_count": 31,
      "outputs": [
        {
          "output_type": "execute_result",
          "data": {
            "text/plain": [
              "array([[0., 1., 2., 3.],\n",
              "       [0., 1., 2., 3.],\n",
              "       [0., 1., 2., 3.],\n",
              "       [0., 1., 2., 3.]])"
            ]
          },
          "metadata": {},
          "execution_count": 31
        }
      ]
    },
    {
      "cell_type": "code",
      "metadata": {
        "id": "fNTRR8DwfGKe",
        "colab": {
          "base_uri": "https://localhost:8080/"
        },
        "outputId": "9d9117a3-ec58-454e-de28-8ed03f670b48"
      },
      "source": [
        "y.T*x"
      ],
      "execution_count": 32,
      "outputs": [
        {
          "output_type": "execute_result",
          "data": {
            "text/plain": [
              "array([[0., 1., 2., 3.],\n",
              "       [0., 1., 2., 3.],\n",
              "       [0., 1., 2., 3.],\n",
              "       [0., 1., 2., 3.]])"
            ]
          },
          "metadata": {},
          "execution_count": 32
        }
      ]
    },
    {
      "cell_type": "code",
      "metadata": {
        "id": "vi5kt5OufGKg",
        "colab": {
          "base_uri": "https://localhost:8080/"
        },
        "outputId": "02ef9d99-a777-4afb-b372-6cf265d949ca"
      },
      "source": [
        "x = np.arange(4).reshape(2,2)\n",
        "y1 = np.arange(2)\n",
        "y2 = np.arange(2).reshape(1,2) # in numpy this is the same as y1\n",
        "print('x:\\n{}\\n'.format(x))\n",
        "print('y1:\\n{}\\n'.format(y1))\n",
        "print('y2:\\n{}\\n'.format(y2))"
      ],
      "execution_count": 33,
      "outputs": [
        {
          "output_type": "stream",
          "name": "stdout",
          "text": [
            "x:\n",
            "[[0 1]\n",
            " [2 3]]\n",
            "\n",
            "y1:\n",
            "[0 1]\n",
            "\n",
            "y2:\n",
            "[[0 1]]\n",
            "\n"
          ]
        }
      ]
    },
    {
      "cell_type": "code",
      "metadata": {
        "id": "-1k0CFOIfGKi",
        "colab": {
          "base_uri": "https://localhost:8080/"
        },
        "outputId": "bdcd4ff1-c547-4ab9-f4d9-803f10408e4a"
      },
      "source": [
        "x*y1"
      ],
      "execution_count": 34,
      "outputs": [
        {
          "output_type": "execute_result",
          "data": {
            "text/plain": [
              "array([[0, 1],\n",
              "       [0, 3]])"
            ]
          },
          "metadata": {},
          "execution_count": 34
        }
      ]
    },
    {
      "cell_type": "code",
      "metadata": {
        "id": "EW90NQ6nfGKk",
        "colab": {
          "base_uri": "https://localhost:8080/"
        },
        "outputId": "33044f62-e3dd-4f31-9423-ae09ac3ba821"
      },
      "source": [
        "x*y2"
      ],
      "execution_count": 35,
      "outputs": [
        {
          "output_type": "execute_result",
          "data": {
            "text/plain": [
              "array([[0, 1],\n",
              "       [0, 3]])"
            ]
          },
          "metadata": {},
          "execution_count": 35
        }
      ]
    },
    {
      "cell_type": "code",
      "metadata": {
        "id": "ban5G53YfGKm",
        "colab": {
          "base_uri": "https://localhost:8080/"
        },
        "outputId": "c768ea3e-02b0-405d-c013-08bdad3cefb6"
      },
      "source": [
        "# generate two matrices\n",
        "a = np.arange(10).reshape(2,5)\n",
        "b = np.arange(15).reshape(5,3)\n",
        "print(a)\n",
        "print()\n",
        "print(b)"
      ],
      "execution_count": 36,
      "outputs": [
        {
          "output_type": "stream",
          "name": "stdout",
          "text": [
            "[[0 1 2 3 4]\n",
            " [5 6 7 8 9]]\n",
            "\n",
            "[[ 0  1  2]\n",
            " [ 3  4  5]\n",
            " [ 6  7  8]\n",
            " [ 9 10 11]\n",
            " [12 13 14]]\n"
          ]
        }
      ]
    },
    {
      "cell_type": "code",
      "metadata": {
        "id": "iXVjcn_ffGKp",
        "colab": {
          "base_uri": "https://localhost:8080/"
        },
        "outputId": "3adf1026-84cf-478d-a4fb-6ac1c62c21e8"
      },
      "source": [
        "# check if operation dot is equal to operation matmul\n",
        "np.array_equal(np.dot(a,b),np.matmul(a,b))"
      ],
      "execution_count": 37,
      "outputs": [
        {
          "output_type": "execute_result",
          "data": {
            "text/plain": [
              "True"
            ]
          },
          "metadata": {},
          "execution_count": 37
        }
      ]
    },
    {
      "cell_type": "code",
      "metadata": {
        "id": "M31vWN03fGKs",
        "colab": {
          "base_uri": "https://localhost:8080/"
        },
        "outputId": "daec533a-177b-41fd-8584-9dc71e500551"
      },
      "source": [
        "# multiply a by b\n",
        "np.matmul(a,b)"
      ],
      "execution_count": 38,
      "outputs": [
        {
          "output_type": "execute_result",
          "data": {
            "text/plain": [
              "array([[ 90, 100, 110],\n",
              "       [240, 275, 310]])"
            ]
          },
          "metadata": {},
          "execution_count": 38
        }
      ]
    },
    {
      "cell_type": "code",
      "metadata": {
        "id": "4jhyA0VYfGKv",
        "colab": {
          "base_uri": "https://localhost:8080/"
        },
        "outputId": "79624173-7f88-4225-98cf-e219ebf0ea89"
      },
      "source": [
        "# another way to multiply a by b\n",
        "a@b"
      ],
      "execution_count": 39,
      "outputs": [
        {
          "output_type": "execute_result",
          "data": {
            "text/plain": [
              "array([[ 90, 100, 110],\n",
              "       [240, 275, 310]])"
            ]
          },
          "metadata": {},
          "execution_count": 39
        }
      ]
    },
    {
      "cell_type": "code",
      "metadata": {
        "id": "HbJu-_fLfGK0",
        "colab": {
          "base_uri": "https://localhost:8080/"
        },
        "outputId": "9980e504-f698-4e24-d8f0-6fcef1f53183"
      },
      "source": [
        "a = np.arange(9).reshape(3,3)\n",
        "b = np.arange(3)\n",
        "print('{}\\n\\n{}'.format(a,b))"
      ],
      "execution_count": 40,
      "outputs": [
        {
          "output_type": "stream",
          "name": "stdout",
          "text": [
            "[[0 1 2]\n",
            " [3 4 5]\n",
            " [6 7 8]]\n",
            "\n",
            "[0 1 2]\n"
          ]
        }
      ]
    },
    {
      "cell_type": "code",
      "metadata": {
        "id": "2Cxjq5WFfGK4",
        "colab": {
          "base_uri": "https://localhost:8080/"
        },
        "outputId": "aa016e71-6626-431f-8622-b09e4db8cc39"
      },
      "source": [
        "# inner product of 2 vectors\n",
        "np.inner(a,b)"
      ],
      "execution_count": 41,
      "outputs": [
        {
          "output_type": "execute_result",
          "data": {
            "text/plain": [
              "array([ 5, 14, 23])"
            ]
          },
          "metadata": {},
          "execution_count": 41
        }
      ]
    },
    {
      "cell_type": "code",
      "metadata": {
        "id": "AuSfLhm2fGK8",
        "colab": {
          "base_uri": "https://localhost:8080/"
        },
        "outputId": "93951d19-b552-4704-ba1e-d8e1b97c3ba5"
      },
      "source": [
        "# outer product of 2 vectors\n",
        "np.outer(a,b)"
      ],
      "execution_count": 42,
      "outputs": [
        {
          "output_type": "execute_result",
          "data": {
            "text/plain": [
              "array([[ 0,  0,  0],\n",
              "       [ 0,  1,  2],\n",
              "       [ 0,  2,  4],\n",
              "       [ 0,  3,  6],\n",
              "       [ 0,  4,  8],\n",
              "       [ 0,  5, 10],\n",
              "       [ 0,  6, 12],\n",
              "       [ 0,  7, 14],\n",
              "       [ 0,  8, 16]])"
            ]
          },
          "metadata": {},
          "execution_count": 42
        }
      ]
    },
    {
      "cell_type": "markdown",
      "metadata": {
        "id": "bQda4F4EfGK_"
      },
      "source": [
        "#### Solving linear equations\n",
        "An example: Solve three linear equations with 3 unknowns as follows:<br>\n",
        "$x_1 + 2x_2 + 3x_3 = 10$<br>\n",
        "$4x_1 + 4x_2 + 5x_3=4$<br>\n",
        "$3x_1 + 8x_2 + 9x_3 = 3$<br>\n",
        "\n",
        "We have a linear equation to solve as in the form $Ax = B$, where\n",
        "\\begin{equation*}\n",
        "A =\n",
        "\\begin{pmatrix}\n",
        "1 & 2 & 3 \\\\\n",
        "4 & 4 & 5 \\\\\n",
        "3 & 8 & 9\n",
        "\\end{pmatrix}\n",
        ",\n",
        "B =\n",
        "\\begin{pmatrix}\n",
        "10 \\\\\n",
        "4 \\\\\n",
        "3\n",
        "\\end{pmatrix}\n",
        ",\n",
        "x =\n",
        "\\begin{pmatrix}\n",
        "x_1 \\\\\n",
        "x_2 \\\\\n",
        "x_3\n",
        "\\end{pmatrix}\n",
        "\\end{equation*}\n",
        "\n",
        "<br>\n",
        "In simple cases with small matrices, we can do $x = A^{-1}B$."
      ]
    },
    {
      "cell_type": "code",
      "metadata": {
        "id": "PLS1GVLMfGLA",
        "colab": {
          "base_uri": "https://localhost:8080/"
        },
        "outputId": "83c8d3fd-cb86-41b2-f499-3214a5de34eb"
      },
      "source": [
        "A = np.array([[1,2,3],[4,4,5],[3,8,9]])\n",
        "B = np.array([10,4,3])\n",
        "A_inv = np.linalg.inv(A)\n",
        "A_inv"
      ],
      "execution_count": 43,
      "outputs": [
        {
          "output_type": "execute_result",
          "data": {
            "text/plain": [
              "array([[-2.85714286e-01,  4.28571429e-01, -1.42857143e-01],\n",
              "       [-1.50000000e+00, -6.66133815e-17,  5.00000000e-01],\n",
              "       [ 1.42857143e+00, -1.42857143e-01, -2.85714286e-01]])"
            ]
          },
          "metadata": {},
          "execution_count": 43
        }
      ]
    },
    {
      "cell_type": "code",
      "metadata": {
        "id": "2_Rev7MEfGLC"
      },
      "source": [
        "x = np.dot(A_inv, B)"
      ],
      "execution_count": 44,
      "outputs": []
    },
    {
      "cell_type": "code",
      "metadata": {
        "id": "e-oPmxrSfGLF",
        "colab": {
          "base_uri": "https://localhost:8080/"
        },
        "outputId": "162c5115-c2c2-4086-e579-d7b1d0dc3d9c"
      },
      "source": [
        "# check results with allclose() function)\n",
        "np.allclose(np.dot(A,x),B)"
      ],
      "execution_count": 45,
      "outputs": [
        {
          "output_type": "execute_result",
          "data": {
            "text/plain": [
              "True"
            ]
          },
          "metadata": {},
          "execution_count": 45
        }
      ]
    },
    {
      "cell_type": "markdown",
      "metadata": {
        "id": "Vbt-t8rpEP7R"
      },
      "source": [
        "-----"
      ]
    },
    {
      "cell_type": "markdown",
      "metadata": {
        "id": "77y-VVzxfGLH"
      },
      "source": [
        "\n",
        "## <font color='#008DFF'> **Question 1**\n",
        "\n",
        "Write code for solving four linear equations with 4 unknowns as follows:<br>\n",
        "$x_1 + 2x_2 + 5x_4 = 10$<br>\n",
        "$4x_1 + 4x_2 + 5x_3 + 3x_4=4$<br>\n",
        "$3x_1 + 8x_2 + 9x_3 + x_4= 3$<br>\n",
        "$x_1 + x_2 + 3x_3 = 7$<br><br>\n",
        "\n",
        "Afterwards, check results with allclose( ) function, and print out x.\n",
        "\n",
        "<b>Expected result</b><br>x = array([-4.90243902, -4.56097561, 5.48780488,  4.80487805])\n"
      ]
    },
    {
      "cell_type": "code",
      "metadata": {
        "id": "A0wIhEbW04b7",
        "colab": {
          "base_uri": "https://localhost:8080/"
        },
        "outputId": "45bd9ee7-ba10-4165-dfe2-0cf43b46305b"
      },
      "source": [
        "# your code here\n",
        "#Define the Coefficient Matrix A\n",
        "A=np.array([[1,2,0,5],[4,4,5,3],[3,8,9,1],[1,1,3,0]])\n",
        "\n",
        "# Define the right-hand side vector B\n",
        "B=np.array([10,4,3,7])\n",
        "\n",
        "# Compute the inverse of A\n",
        "A_inv=np.linalg.inv(A)\n",
        "\n",
        "# Solve for x using A_inv * B\n",
        "x=np.dot(A_inv,B)\n",
        "\n",
        "# Print the output with formatted spacing\n",
        "print(f\"x = array([{x[0]:.8f},{x[1]:.8f},{x[2]:.8f},{x[3]:.8f}])\")\n",
        "\n",
        "#Verify the Solution\n",
        "np.allclose(np.dot(A,x),B)"
      ],
      "execution_count": 46,
      "outputs": [
        {
          "output_type": "stream",
          "name": "stdout",
          "text": [
            "x = array([-4.90243902,-4.56097561,5.48780488,4.80487805])\n"
          ]
        },
        {
          "output_type": "execute_result",
          "data": {
            "text/plain": [
              "True"
            ]
          },
          "metadata": {},
          "execution_count": 46
        }
      ]
    },
    {
      "cell_type": "code",
      "source": [
        "# Grader's area\n",
        "#\n",
        "# Here we have only part, so this grade is assigned in M[1,1]\n",
        "# assign the grade and then uncomment the following\n",
        "\n",
        "# M[1,1] =\n",
        "\n",
        "maxScore = maxScore +4;"
      ],
      "metadata": {
        "id": "77c5jSREdt9K"
      },
      "execution_count": 47,
      "outputs": []
    },
    {
      "cell_type": "markdown",
      "source": [
        "-----------------\n",
        "-----------------\n",
        "-----------------\n",
        "-----------------"
      ],
      "metadata": {
        "id": "DKD1e5IvkXJz"
      }
    },
    {
      "cell_type": "markdown",
      "metadata": {
        "id": "hH8NLj_UfGLK"
      },
      "source": [
        "## **Part 2: Exploring some data**"
      ]
    },
    {
      "cell_type": "markdown",
      "source": [
        "In this exercise we will be using the 'Boston Housing' dataset. This is an infamous dataset, due to one of its data attributes being the percentage of Black inhabitants of a given town. This dataset has now been removed from official distributions of certain tools (including scikit-learn), but it is still around to remind us how human learned bias can enter Machine Learning pipelines and have unintended (or in some cases, horribly intended) consequences."
      ],
      "metadata": {
        "id": "Wq8IS0kDeOLz"
      }
    },
    {
      "cell_type": "code",
      "metadata": {
        "id": "yJ9yDB9ufGLL"
      },
      "source": [
        "# The Boston Housing dataset is no longer available in scikit-learn as of version 1.2.\n",
        "# Reading directly using the source URL, with the description omitted.\n",
        "# For more information, view the original source file.\n",
        "\n",
        "# Deprecated scikit-learn 1.1 version:\n",
        "#\n",
        "# from sklearn.datasets import load_boston\n",
        "# ds = load_boston()\n",
        "# samples, label, feature_names = ds.data, ds.target, ds.feature_names\n",
        "# print(samples.shape)\n",
        "# print(feature_names)\n",
        "\n",
        "import pandas as pd\n",
        "import numpy as np\n",
        "\n",
        "data_url = \"http://lib.stat.cmu.edu/datasets/boston\"\n",
        "ds = pd.read_csv(data_url, sep=\"\\s+\", skiprows=22, header=None)\n",
        "samples = np.hstack([ds.values[::2, :], ds.values[1::2, :2]])\n",
        "label = ds.values[1::2, 2]"
      ],
      "execution_count": 48,
      "outputs": []
    },
    {
      "cell_type": "code",
      "metadata": {
        "id": "635Xsy-CfGLO",
        "colab": {
          "base_uri": "https://localhost:8080/"
        },
        "outputId": "216bc56d-2c79-4f4e-fd3c-c7d9248d81e5"
      },
      "source": [
        "# Data description\n",
        "\n",
        "# Deprecated scikit-learn 1.1 version:\n",
        "#\n",
        "# print(ds.DESCR)\n",
        "\n",
        "import requests\n",
        "\n",
        "lines = requests.get(data_url).text.splitlines()\n",
        "for i, line in enumerate(lines[:22]):\n",
        "    print(line)"
      ],
      "execution_count": 49,
      "outputs": [
        {
          "output_type": "stream",
          "name": "stdout",
          "text": [
            " The Boston house-price data of Harrison, D. and Rubinfeld, D.L. 'Hedonic\n",
            " prices and the demand for clean air', J. Environ. Economics & Management,\n",
            " vol.5, 81-102, 1978.   Used in Belsley, Kuh & Welsch, 'Regression diagnostics\n",
            " ...', Wiley, 1980.   N.B. Various transformations are used in the table on\n",
            " pages 244-261 of the latter.\n",
            "\n",
            " Variables in order:\n",
            " CRIM     per capita crime rate by town\n",
            " ZN       proportion of residential land zoned for lots over 25,000 sq.ft.\n",
            " INDUS    proportion of non-retail business acres per town\n",
            " CHAS     Charles River dummy variable (= 1 if tract bounds river; 0 otherwise)\n",
            " NOX      nitric oxides concentration (parts per 10 million)\n",
            " RM       average number of rooms per dwelling\n",
            " AGE      proportion of owner-occupied units built prior to 1940\n",
            " DIS      weighted distances to five Boston employment centres\n",
            " RAD      index of accessibility to radial highways\n",
            " TAX      full-value property-tax rate per $10,000\n",
            " PTRATIO  pupil-teacher ratio by town\n",
            " B        1000(Bk - 0.63)^2 where Bk is the proportion of blacks by town\n",
            " LSTAT    % lower status of the population\n",
            " MEDV     Median value of owner-occupied homes in $1000's\n",
            "\n"
          ]
        }
      ]
    },
    {
      "cell_type": "code",
      "metadata": {
        "id": "rR8jIWSafGLR",
        "colab": {
          "base_uri": "https://localhost:8080/"
        },
        "outputId": "dbf9ee7c-9408-4cdd-f3e7-87d7499943a4"
      },
      "source": [
        "# check to see if there is any null data\n",
        "np.isnan(np.sum(samples))"
      ],
      "execution_count": 50,
      "outputs": [
        {
          "output_type": "execute_result",
          "data": {
            "text/plain": [
              "False"
            ]
          },
          "metadata": {},
          "execution_count": 50
        }
      ]
    },
    {
      "cell_type": "code",
      "metadata": {
        "id": "QMjtimPhfGLT"
      },
      "source": [
        "# set print options to make things look nicer\n",
        "np.set_printoptions(suppress=True, linewidth=125)"
      ],
      "execution_count": 51,
      "outputs": []
    },
    {
      "cell_type": "code",
      "metadata": {
        "id": "hwXoQA_rfGLY",
        "colab": {
          "base_uri": "https://localhost:8080/"
        },
        "outputId": "5a19888f-2bd1-44f4-eb91-1a75a6e18091"
      },
      "source": [
        "# find median, variance of the data and output it in a nice format\n",
        "median = np.round(np.median(samples, axis=0), decimals=1)\n",
        "variance = np.round(np.var(samples, axis=0), decimals=1)\n",
        "basic_stats = np.vstack((median, variance))\n",
        "basic_stats_label = ['  median','variance']\n",
        "print('\\t\\tCRIM\\tZN\\tINDUS\\tCHAS\\tNOX\\tRM\\tAGE\\tDIS\\tRAD\\tTAX\\tPTRATIO\\tB\\tLSTAT')\n",
        "for basic_stats_label, row in zip(basic_stats_label, basic_stats):\n",
        "    print('{} [\\t{}]'.format(basic_stats_label,\"\".join('%s\\t'%i for i in row)))"
      ],
      "execution_count": 52,
      "outputs": [
        {
          "output_type": "stream",
          "name": "stdout",
          "text": [
            "\t\tCRIM\tZN\tINDUS\tCHAS\tNOX\tRM\tAGE\tDIS\tRAD\tTAX\tPTRATIO\tB\tLSTAT\n",
            "  median [\t0.3\t0.0\t9.7\t0.0\t0.5\t6.2\t77.5\t3.2\t5.0\t330.0\t19.0\t391.4\t11.4\t]\n",
            "variance [\t73.8\t542.9\t47.0\t0.1\t0.0\t0.5\t790.8\t4.4\t75.7\t28348.6\t4.7\t8318.3\t50.9\t]\n"
          ]
        }
      ]
    },
    {
      "cell_type": "markdown",
      "metadata": {
        "id": "VS5mKl2lfGLb"
      },
      "source": [
        "## <font color='#008DFF'>  **Question 2**\n",
        "\n",
        "Use function <code>stats.describe</code> to retrieve the max, min, and average of samples, and then display it as in the expected output: <br><br>\n",
        "\n",
        "<b>Expected Output:</b> Something that looks like the following or better: <br>\n",
        "<code>\t CRIM\tZN\tINDUS\tCHAS\tNOX\tRM\tAGE\tDIS\tRAD\tTAX\tPTRATIO\tB\tLSTAT\n",
        " min [\t0.0\t0.0\t0.5\t0.0\t0.4\t3.6\t2.9\t1.1\t1.0\t187.0\t12.6\t0.3\t1.7\t]\n",
        " max [\t89.0\t100.0\t27.7\t1.0\t0.9\t8.8\t100.0\t12.1\t24.0\t711.0\t22.0\t396.9\t38.0\t]\n",
        "mean [\t3.6\t11.4\t11.1\t0.1\t0.6\t6.3\t68.6\t3.8\t9.5\t408.2\t18.5\t356.7\t12.7\t]\n",
        "</code>\n",
        "\n",
        "<b>Answer</b>:"
      ]
    },
    {
      "cell_type": "code",
      "metadata": {
        "id": "OkNtSOsIfGLb",
        "colab": {
          "base_uri": "https://localhost:8080/"
        },
        "outputId": "e2c3e316-4aa4-49c8-ebde-94d542220c22"
      },
      "source": [
        "# Your code goes here. Add more cells if needed.\n",
        "\n",
        "# Compute statistics using stats.describe\n",
        "n, min_max, mean, var, skew, kurt = stats.describe(samples)\n",
        "\n",
        "# Prepare statistics labels and values\n",
        "basic_stats_label = [\"min\", \"max\", \"mean\"]\n",
        "basic_stats = [min_max[0], min_max[1], mean]  # Extract min, max, and mean\n",
        "\n",
        "# Print table header with spacing\n",
        "print('\\tCRIM\\tZN\\tINDUS\\tCHAS\\tNOX\\tRM\\tAGE\\tDIS\\tRAD\\tTAX\\tPTRATIO\\tB\\tLSTAT')\n",
        "\n",
        "# Determine max label length for uniform spacing\n",
        "max_label_length = max(len(label) for label in basic_stats_label)\n",
        "\n",
        "# Print each statistic with aligned spacing\n",
        "for label, row in zip(basic_stats_label, basic_stats):\n",
        "    formatted_row = \"\\t\".join(f\"{x:.1f}\" for x in row)\n",
        "    print(f\"{label.ljust(max_label_length)} [\\t{formatted_row} ]\")"
      ],
      "execution_count": 53,
      "outputs": [
        {
          "output_type": "stream",
          "name": "stdout",
          "text": [
            "\tCRIM\tZN\tINDUS\tCHAS\tNOX\tRM\tAGE\tDIS\tRAD\tTAX\tPTRATIO\tB\tLSTAT\n",
            "min  [\t0.0\t0.0\t0.5\t0.0\t0.4\t3.6\t2.9\t1.1\t1.0\t187.0\t12.6\t0.3\t1.7 ]\n",
            "max  [\t89.0\t100.0\t27.7\t1.0\t0.9\t8.8\t100.0\t12.1\t24.0\t711.0\t22.0\t396.9\t38.0 ]\n",
            "mean [\t3.6\t11.4\t11.1\t0.1\t0.6\t6.3\t68.6\t3.8\t9.5\t408.2\t18.5\t356.7\t12.7 ]\n"
          ]
        }
      ]
    },
    {
      "cell_type": "code",
      "source": [
        "# Grader's area\n",
        "\n",
        "maxScore = maxScore + 4\n",
        "# M[2,1] ="
      ],
      "metadata": {
        "id": "zPnHTf9MfT5X"
      },
      "execution_count": 54,
      "outputs": []
    },
    {
      "cell_type": "markdown",
      "metadata": {
        "id": "l3KaR1wZyRgK"
      },
      "source": [
        "-----------------\n",
        "-----------------\n",
        "-----------------\n",
        "-----------------"
      ]
    },
    {
      "cell_type": "code",
      "metadata": {
        "id": "FzOg-yJwfGLe",
        "colab": {
          "base_uri": "https://localhost:8080/",
          "height": 541
        },
        "outputId": "bbc5d33b-6ae2-4ad2-d13a-c7aaa1347ea2"
      },
      "source": [
        "import matplotlib.pyplot as plt\n",
        "\n",
        "# Plot the distribution of crime based on the data\n",
        "n, bins, patches = plt.hist(samples[:,0],bins='auto')\n",
        "plt.title('Distribution of crimes')\n",
        "plt.show()\n",
        "print('Bin sizes: {}'.format(n))"
      ],
      "execution_count": 55,
      "outputs": [
        {
          "output_type": "display_data",
          "data": {
            "text/plain": [
              "<Figure size 640x480 with 1 Axes>"
            ],
            "image/png": "[encoded data removed]"
          },
          "metadata": {}
        },
        {
          "output_type": "stream",
          "name": "stdout",
          "text": [
            "Bin sizes: [329.  26.  14.   9.  13.  12.  11.   9.   8.   9.   9.   6.   5.   4.   3.   7.   4.   4.   1.   1.   3.   1.   1.   1.\n",
            "   1.   1.   1.   3.   1.   0.   0.   1.   0.   0.   0.   0.   0.   0.   0.   0.   0.   1.   1.   0.   0.   0.   1.   0.\n",
            "   0.   0.   1.   0.   0.   0.   0.   0.   1.   0.   0.   0.   0.   0.   0.   0.   0.   0.   0.   0.   0.   0.   0.   0.\n",
            "   0.   0.   0.   1.   0.   0.   0.   0.   0.   1.   0.   0.   0.   0.   0.   0.   0.   0.   0.   0.   0.   0.   0.   0.\n",
            "   0.   0.   1.]\n"
          ]
        }
      ]
    },
    {
      "cell_type": "markdown",
      "metadata": {
        "id": "53VG7TETfGLg"
      },
      "source": [
        "\n",
        "## <font color='#008DFF'> <b>Question 3</b>\n",
        "\n",
        "Plot the histogram of another feature of the dataset that you are interested in, give the plot a title, and print out the bin sizes. <br><br>\n",
        "<b>Answer</b>"
      ]
    },
    {
      "cell_type": "code",
      "metadata": {
        "id": "MALZsy3AfGLg",
        "colab": {
          "base_uri": "https://localhost:8080/",
          "height": 470
        },
        "outputId": "69065277-15a0-4970-d405-ab9eb49be699"
      },
      "source": [
        "# Your code goes here. Add more cells if necessary.\n",
        "# Plot the distribution of LSTAT (Percentage of lower status of the population)\n",
        "n, bins, patches = plt.hist(samples[:, 12], bins='auto')  # Column index 12 points to LSTAT\n",
        "plt.title('Distribution of LSTAT')\n",
        "plt.show()\n",
        "print('Bin sizes: {}'.format(n))"
      ],
      "execution_count": 56,
      "outputs": [
        {
          "output_type": "display_data",
          "data": {
            "text/plain": [
              "<Figure size 640x480 with 1 Axes>"
            ],
            "image/png": "[encoded data removed]"
          },
          "metadata": {}
        },
        {
          "output_type": "stream",
          "name": "stdout",
          "text": [
            "Bin sizes: [36. 74. 73. 71. 59. 53. 49. 25. 20. 15. 11. 11.  3.  4.  2.]\n"
          ]
        }
      ]
    },
    {
      "cell_type": "code",
      "source": [
        "# Grader's area\n",
        "\n",
        "maxScore = maxScore+4\n",
        "# M[3,1] ="
      ],
      "metadata": {
        "id": "rGw6wsAfkHzL"
      },
      "execution_count": 57,
      "outputs": []
    },
    {
      "cell_type": "markdown",
      "metadata": {
        "id": "cDbu6VbOxzNJ"
      },
      "source": [
        "------------------\n",
        "------------------\n",
        "------------------\n",
        "------------------\n",
        "\n",
        "\n",
        "\n",
        "\n"
      ]
    },
    {
      "cell_type": "code",
      "metadata": {
        "id": "yTYkJsHgfGLk",
        "colab": {
          "base_uri": "https://localhost:8080/"
        },
        "outputId": "ddc71bd1-b302-420e-f6b4-c27ac0ede18e"
      },
      "source": [
        "def house_with_defined_age(dataset,age):\n",
        "    '''This function will return the indices of all houses with the proportion of owner-occupied units built prior to 1940 greater than age%'''\n",
        "    ids = []\n",
        "    for id, record in enumerate(dataset):\n",
        "        if record[6]>age:\n",
        "            ids.append(id)\n",
        "    return ids\n",
        "\n",
        "\n",
        "# list all records with units built prior to 1940 greater than 50%\n",
        "samples[house_with_defined_age(samples,50)]"
      ],
      "execution_count": 58,
      "outputs": [
        {
          "output_type": "execute_result",
          "data": {
            "text/plain": [
              "array([[  0.00632,  18.     ,   2.31   , ...,  15.3    , 396.9    ,   4.98   ],\n",
              "       [  0.02731,   0.     ,   7.07   , ...,  17.8    , 396.9    ,   9.14   ],\n",
              "       [  0.02729,   0.     ,   7.07   , ...,  17.8    , 392.83   ,   4.03   ],\n",
              "       ...,\n",
              "       [  0.06076,   0.     ,  11.93   , ...,  21.     , 396.9    ,   5.64   ],\n",
              "       [  0.10959,   0.     ,  11.93   , ...,  21.     , 393.45   ,   6.48   ],\n",
              "       [  0.04741,   0.     ,  11.93   , ...,  21.     , 396.9    ,   7.88   ]])"
            ]
          },
          "metadata": {},
          "execution_count": 58
        }
      ]
    },
    {
      "cell_type": "markdown",
      "metadata": {
        "id": "N3zhYgVKfGLm"
      },
      "source": [
        "\n",
        "## <font color='#008DFF'> **Question 4**\n",
        "\n",
        "Write a function that takes as input the given dataset and two numbers $a$ and $b$, and returns the IDs of houses for which tax is either less than $a$ or more than $b$. Demonstrate how the function runs with two specific inputs $a$ and $b$ of your choice.\n",
        "\n"
      ]
    },
    {
      "cell_type": "code",
      "metadata": {
        "id": "6_0OKNXtfGLn",
        "colab": {
          "base_uri": "https://localhost:8080/"
        },
        "outputId": "05addcf8-024c-4b56-dda3-4532a6708e76"
      },
      "source": [
        "# Your code goes here.\n",
        "def house_with_defined_tax(dataset, a, b):\n",
        "    '''This function returns the indices of houses where tax is either less than a or more than b.'''\n",
        "    ids = []\n",
        "    for id, record in enumerate(dataset):\n",
        "        if record[9] < a or record[9] > b:\n",
        "            ids.append(id)\n",
        "    return ids\n",
        "\n",
        "# Demonstrate the function with a = 200 and b = 600\n",
        "tax_filtered_ids = house_with_defined_tax(samples, 200, 600)\n",
        "\n",
        "# List records where TAX < 200 or TAX > 600\n",
        "samples[tax_filtered_ids]"
      ],
      "execution_count": 59,
      "outputs": [
        {
          "output_type": "execute_result",
          "data": {
            "text/plain": [
              "array([[  0.06899,   0.     ,  25.65   , ...,  19.1    , 389.15   ,  14.37   ],\n",
              "       [  0.07165,   0.     ,  25.65   , ...,  19.1    , 377.67   ,  14.27   ],\n",
              "       [  0.09299,   0.     ,  25.65   , ...,  19.1    , 378.09   ,  17.93   ],\n",
              "       ...,\n",
              "       [  0.20746,   0.     ,  27.74   , ...,  20.1    , 318.43   ,  29.68   ],\n",
              "       [  0.10574,   0.     ,  27.74   , ...,  20.1    , 390.11   ,  18.07   ],\n",
              "       [  0.11132,   0.     ,  27.74   , ...,  20.1    , 396.9    ,  13.35   ]])"
            ]
          },
          "metadata": {},
          "execution_count": 59
        }
      ]
    },
    {
      "cell_type": "code",
      "metadata": {
        "id": "upNrvOZQAqVf"
      },
      "source": [
        "# Grader's area\n",
        "\n",
        "maxScore = maxScore + 4\n",
        "# M[4,1]="
      ],
      "execution_count": 60,
      "outputs": []
    },
    {
      "cell_type": "markdown",
      "source": [
        "------------------------------------------\n",
        "------------------------------------------\n",
        "------------------------------------------\n",
        "------------------------------------------"
      ],
      "metadata": {
        "id": "FwAL2fEc2cRP"
      }
    },
    {
      "cell_type": "markdown",
      "metadata": {
        "id": "0h4pDnxJ-06z"
      },
      "source": [
        "## **Part 3: *k*-NN simple implementation**\n",
        "\n",
        "Here we use a simple implementation of *k*-NN in order to understand how objects and methods work."
      ]
    },
    {
      "cell_type": "markdown",
      "source": [
        "## <font color='#008DFF'> **Question 5**\n",
        "\n"
      ],
      "metadata": {
        "id": "5ntY4Cih-qYl"
      }
    },
    {
      "cell_type": "code",
      "metadata": {
        "id": "EKQWqF-FAuky"
      },
      "source": [
        "# the following algorithm is an implementation of the kNN pseudocode we discussed in the lecture\n",
        "\n",
        "class kNN_classifier:\n",
        "  # the hyperparameters that define the object/algorithm\n",
        "  # these are given at initialization\n",
        "  def __init__(self,k, distance='euclidean'):\n",
        "    self.k = k\n",
        "    self.distance = distance\n",
        "\n",
        "\n",
        "  #here we define the methods of the knn classifier object\n",
        "\n",
        "  #the fit method takes as input the data and labels\n",
        "  def fit(self,X,y):\n",
        "    # siply save X, y as part of the object\n",
        "    # y is assumed to have labels 0 or 1 (binary classifier)\n",
        "    self.X = X\n",
        "    self.y = y\n",
        "\n",
        "\n",
        "\n",
        "  def predict(self,x):\n",
        "\n",
        "    # here we expect x to be a row vector of the same\n",
        "    # dimension as the rows of X. no checks are done.\n",
        "\n",
        "    n = self.X.shape[0]\n",
        "    S = []\n",
        "    for j in range(n):\n",
        "\n",
        "      if self.distance =='euclidean':\n",
        "        dst = np.linalg.norm(x-self.X[j,:])\n",
        "\n",
        "      S.append(dst)\n",
        "\n",
        "    # sort distances\n",
        "    prm = np.argsort(S)\n",
        "\n",
        "\n",
        "    c = 0\n",
        "    for j in range(self.k):\n",
        "      idx = prm[j]\n",
        "      if self.y[idx] == 1:\n",
        "        c = c+1\n",
        "\n",
        "    if c >= self.k//2:\n",
        "      return 1\n",
        "    else:\n",
        "      return 0\n"
      ],
      "execution_count": 61,
      "outputs": []
    },
    {
      "cell_type": "markdown",
      "source": [
        "### <font color='#008DFF'>  **Question 5(i)**\n",
        "\n",
        "Re-use the scatter plot code from the beginning of [notes](https://colab.research.google.com/drive/1NIHv_CoknQt3UcrMSezu7iUJEsEeyaaN?usp=drive_fs) from Module 1 (Introduction) in order to create a simple dataset with 2 blobs/clusters. Check whether the labels vectors contains 0s and 1s as needed by our *k*-NN code."
      ],
      "metadata": {
        "id": "6eUGohNI_JPS"
      }
    },
    {
      "cell_type": "code",
      "source": [
        "## Your code goes here.\n",
        "\n",
        "import numpy as np\n",
        "import matplotlib.pyplot as plt\n",
        "from sklearn.datasets import make_blobs\n",
        "\n",
        "# Generate a dataset with 2 clusters (blobs) and 2 features\n",
        "X1, Y1 = make_blobs(n_samples=100, n_features=2, centers=2, random_state=1)\n",
        "\n",
        "# Scatter plot of the generated dataset\n",
        "plt.scatter(X1[:, 0], X1[:, 1], marker=\"o\", c=Y1, s=25, edgecolor=\"k\")\n",
        "plt.title(\"Scatter Plot of 2 Clusters\")\n",
        "plt.xlabel(\"Feature 1\")\n",
        "plt.ylabel(\"Feature 2\")\n",
        "plt.show()\n",
        "\n",
        "# Check unique labels to confirm they are 0s and 1s\n",
        "unique_labels = np.unique(Y1)\n",
        "unique_labels"
      ],
      "metadata": {
        "id": "bp4DLWmz8vXn",
        "colab": {
          "base_uri": "https://localhost:8080/",
          "height": 490
        },
        "outputId": "2904dfd4-17a2-4f88-8e0c-0d0501eaf987"
      },
      "execution_count": 62,
      "outputs": [
        {
          "output_type": "display_data",
          "data": {
            "text/plain": [
              "<Figure size 640x480 with 1 Axes>"
            ],
            "image/png": "[encoded data removed]"
          },
          "metadata": {}
        },
        {
          "output_type": "execute_result",
          "data": {
            "text/plain": [
              "array([0, 1])"
            ]
          },
          "metadata": {},
          "execution_count": 62
        }
      ]
    },
    {
      "cell_type": "code",
      "source": [
        "# Grader's area\n",
        "\n",
        "maxScore = maxScore +5\n",
        "#M[5,1] =\n",
        "\n"
      ],
      "metadata": {
        "id": "NqpvrcbI_xG1"
      },
      "execution_count": 63,
      "outputs": []
    },
    {
      "cell_type": "markdown",
      "source": [],
      "metadata": {
        "id": "knWS8oKD_9QI"
      }
    },
    {
      "cell_type": "markdown",
      "source": [
        "### <font color='#008DFF'>  **Question 5(ii)**\n",
        "\n",
        "Initialize a *k*-NN classifier using the class we wrote above. (Hint: see the [*k*-NN lab](https://colab.research.google.com/drive/1Mh6I3bR8pE90kcs28JfKok59NtfV_7ct?usp=drive_fs) for an example of how to initialize an object.)"
      ],
      "metadata": {
        "id": "SROYKfcm_9gk"
      }
    },
    {
      "cell_type": "code",
      "source": [
        "## Your code goes here.\n",
        "# Initialize the k-NN classifier with k=5\n",
        "knn = kNN_classifier(k=5, distance='euclidean')\n",
        "\n",
        "# Fit the classifier using the generated dataset\n",
        "knn.fit(X1, Y1)\n",
        "\n",
        "# Confirm initialization\n",
        "print(f\"k-NN Classifier initialized with k={knn.k} and the {knn.distance} distance metric\")\n"
      ],
      "metadata": {
        "id": "2Ni9kwJLAQUc",
        "colab": {
          "base_uri": "https://localhost:8080/"
        },
        "outputId": "82199a6a-29e4-4ba6-be44-daa7a9d59e9f"
      },
      "execution_count": 64,
      "outputs": [
        {
          "output_type": "stream",
          "name": "stdout",
          "text": [
            "k-NN Classifier initialized with k=5 and the euclidean distance metric\n"
          ]
        }
      ]
    },
    {
      "cell_type": "code",
      "source": [
        "# Grader's area\n",
        "\n",
        "maxScore = maxScore +5\n",
        "#M[5,2] =\n",
        "\n"
      ],
      "metadata": {
        "id": "701AcFiuAQUc"
      },
      "execution_count": 65,
      "outputs": []
    },
    {
      "cell_type": "markdown",
      "source": [
        "### <font color='#008DFF'>  **Question 5(iii)**\n",
        "\n",
        "Add code in the *k*-NN classifier defined above, in order to handle the case when the hyperparameter *distance* is set to 'Manhattan'."
      ],
      "metadata": {
        "id": "6VchLMyhAaP5"
      }
    },
    {
      "cell_type": "code",
      "source": [
        "## Your additional code goes here.\n",
        "## Please make a comment about where it should be added in the original code above.\n",
        "\n",
        "# Define the modified k-NN Classifier with Manhattan distance support\n",
        "class kNN_classifier:\n",
        "    # Initialize the classifier with k and distance metric\n",
        "    def __init__(self, k, distance='euclidean'):\n",
        "        self.k = k\n",
        "        self.distance = distance\n",
        "\n",
        "    # Fit method to store training data\n",
        "    def fit(self, X, y):\n",
        "        self.X = X  # Training data\n",
        "        self.y = y  # Labels\n",
        "\n",
        "    # Predict method to classify a new data point\n",
        "    def predict(self, x):\n",
        "        n = self.X.shape[0]\n",
        "        S = []\n",
        "\n",
        "        # Compute distances based on the selected metric\n",
        "        for j in range(n):\n",
        "            if self.distance == 'euclidean':\n",
        "                dst = np.linalg.norm(x - self.X[j, :])  # Euclidean distance\n",
        "            elif self.distance == 'manhattan':\n",
        "                dst = np.sum(np.abs(x - self.X[j, :]))  # Manhattan distance\n",
        "            else:\n",
        "                raise ValueError(\"Use 'euclidean' or 'manhattan'.\")\n",
        "\n",
        "            S.append(dst)\n",
        "\n",
        "        # Sort distances, get indices of k nearest neighbors\n",
        "        prm = np.argsort(S)\n",
        "\n",
        "        # Count number of class 1 labels among k nearest neighbors\n",
        "        c = sum(1 for j in range(self.k) if self.y[prm[j]] == 1)\n",
        "\n",
        "        # Majority voting decision\n",
        "        return 1 if c >= self.k // 2 else 0\n"
      ],
      "metadata": {
        "id": "_2w5NybMB6oT"
      },
      "execution_count": 66,
      "outputs": []
    },
    {
      "cell_type": "code",
      "source": [
        "# Grader's area\n",
        "\n",
        "maxScore = maxScore +5\n",
        "#M[5,3] =\n",
        "\n"
      ],
      "metadata": {
        "id": "HsiMfcevAqlW"
      },
      "execution_count": 67,
      "outputs": []
    },
    {
      "cell_type": "markdown",
      "source": [
        "----------------------\n",
        "----------------------\n",
        "----------------------"
      ],
      "metadata": {
        "id": "oRMj1OX-B_fn"
      }
    },
    {
      "cell_type": "code",
      "source": [
        "# Grader's area\n",
        "\n",
        "rawScore = np.sum(M)\n",
        "score = rawScore*100/maxScore"
      ],
      "metadata": {
        "id": "IVkneTzYCAxs"
      },
      "execution_count": 68,
      "outputs": []
    }
  ]
}